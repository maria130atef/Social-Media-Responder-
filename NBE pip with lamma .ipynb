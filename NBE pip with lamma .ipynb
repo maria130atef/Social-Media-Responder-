{
 "cells": [
  {
   "cell_type": "code",
   "execution_count": 1,
   "metadata": {},
   "outputs": [],
   "source": [
    "# !pip install selenium beautifulsoup4 webdriver-manager"
   ]
  },
  {
   "cell_type": "code",
   "execution_count": 2,
   "metadata": {},
   "outputs": [],
   "source": [
    "# !pip install gradio"
   ]
  },
  {
   "cell_type": "code",
   "execution_count": 10,
   "metadata": {},
   "outputs": [],
   "source": [
    "from bs4 import BeautifulSoup\n",
    "import requests\n",
    "from langchain.schema import Document\n",
    "from langchain.text_splitter import RecursiveCharacterTextSplitter\n",
    "import ollama\n",
    "import torch\n",
    "from vllm import LLM, SamplingParams\n",
    "import bs4\n",
    "import gradio as gr\n",
    "from langchain_community.document_loaders import WebBaseLoader\n",
    "from langchain_community.vectorstores import Chroma\n",
    "from langchain_community.embeddings import OllamaEmbeddings\n",
    "from langchain_core.output_parsers import StrOutputParser\n",
    "from langchain_core.runnables import RunnablePassthrough\n",
    "from selenium import webdriver\n",
    "from selenium.webdriver.chrome.service import Service\n",
    "from selenium.webdriver.chrome.options import Options\n",
    "import time\n"
   ]
  },
  {
   "cell_type": "code",
   "execution_count": 1,
   "metadata": {},
   "outputs": [],
   "source": [
    "import json\n",
    "\n",
    "# Define the filename\n",
    "filename = \"/home/maria/gpt/n/extracted_document.txt\"  # Update with the actual path\n",
    "\n",
    "# Open the file and read the contents\n",
    "with open(filename, 'r', encoding='utf-8') as file:\n",
    "    document = json.load(file)\n",
    "\n"
   ]
  },
  {
   "cell_type": "code",
   "execution_count": 2,
   "metadata": {},
   "outputs": [
    {
     "data": {
      "text/plain": [
       "{'title': 'البنك الأهلى المصرى - الصفحة الرئيسية',\n",
       " 'content': 'الحسابات\\nحسابات جاريةحسابات التوفيرافتح حسابك وإنت في مكانكالمزيد\\n\\nشهادات الادخار\\nعملة محليةعملة أجنبيةشهادات بلاديشهادات الاستثمارالمزيد\\n\\nالبطاقات\\nبطاقات الإئتمانبطاقات الخصم المباشرالبطاقات المدفوعة مقدمامحددات البطاقاتمحددات البطاقاتكيفية تفعيل البطاقاتالمزيد\\n\\nالقروض\\nالقرض الشخصي النقديقرض السيارةمبادرة البنك المركزي المصري - التمويل العقاريالمزيد\\n\\nالودائع\\nالودائع - عملة محليةالودائع - عملات أجنبيةالمزيد\\n\\nالخدمات\\nالأوراق الماليةأمناء الأستثمارالتحويلات الخارجيةالتأمين البنكيالمزيد\\n\\nالخدمات الالكترونية\\nالاهلي نت – افرادالاهلى موبايلالأهلي فون كاشفروع الخدمة الالكترونيةخدمة الأهلي للتسوق عبر الإنترنتالفرع المتنقلالأهلي واتسابخدمة المساعد الآلي التفاعلي NBE Chatbot\\n\\nخدمات الحسابات\\nخدمة الكشف الإلكتروني للحساباتخدمة ال sweeping\\n\\nالحسابات \\xa0و البطاقات\\nحسابات جاريهبطاقات الشركاتالمزيد\\n\\nشهادات الادخار\\nعملة محليةعملة أجنبيةالمزيد\\n\\nتمويل الشركات\\nتمويل الشركات والقروض المشتركةالمزيد\\n\\nخدمات المرتبات\\nبرامج الاهلي للمرتباتخدمة الراتب المقدمالمزيد\\n\\nالودائع\\nالودائع - عملة محليةالودائع - عملات أجنبيةالودائع لأجل للشركات بحد ادنى مليون جم\\n\\nالخدمات\\nالأوراق الماليةأمناء الأستثمارتحصيل مستحقات الحكومة الكترونياًالأهلي للمدفوعات والمتحصلاتقيد أسهم رأسمال الشركات بنظام الإيداع المركزي\\n\\nالخدمات الالكترونية\\nخدمة الاهلي نت - للشركاتالاهلى موبايلخدمة الأهلي للتسوق عبر الإنترنتتطبيق قبول المدفوعات للتجارالأهلي واتسابخدمة المساعد الآلي التفاعلي NBE Chatbot\\n\\nالتسجيل للحصول علي تمويل\\n\\n\\nالاهلي للخدمات غير المالية\\nمراكز تطوير الأعمالاستشاراتتوجية و ارشاداتتدريبات\\n\\nوحدات المشروعات المتوسطة\\n\\n\\nالأهلي بيزنس\\nتمويل القطاع الصناعيتمويل القطاع التجاريتمويل القطاع الخدميتمويل القطاع الزراعي\\n\\nالخدمات المصرفية المشروعات الصغيرة والمتوسطة\\nالحساباتبطاقات الشركاتشهادات الإدخارالودائعالخدمات الأخريالمزيد\\n\\nتمويل المشروعات متناهية الصغر\\n\\n\\nالخدمات الإلكترونية\\nخدمة الأهلي نت للشركاتالاهلى موبايلخدمة الأهلي للتسوق عبر الإنترنتتطبيق قبول المدفوعات للتجارالأهلي واتسابخدمة المساعد الآلي التفاعلي NBE Chatbot\\n\\nSMEs في بنكنا\\n\\n\\nمركز اتصالات SME\\n\\n\\nنظرة عامة عن البلاتينم\\nعن الأهلي البلاتينمالخدمات غير المالية\\n\\nشرائح الأهلي بلاتينم\\nالأهلي بلاتينمالأهلي بلاتينم بلسالأهلي بلاتينم إيليتالأهلي بلاتينمالأهلي بلاتينم بلسالأهلي بلاتينم إيليت\\n\\nشهادات ادخار و ودائع\\nالودائع - عملة محليةالودائع - عملات أجنبيةشهادات بالعملة الأجنبيةشهادات بالعملة المحليةشهادات بلاديشهادات استثمار\\n\\nالحسابات والقروض\\nالحسابات الجاريةحسابات التوفيرالحساب الوسيطالقروض الشخصيةقروض السيارة\\n\\nافتح حسابك وإنت في مكانك\\n\\n\\nالخدمات الذاتية\\n\\n\\nبطاقات إئتمان\\n\\n\\nقرض شخصي\\n\\n\\nقرض السيارة\\n\\n\\nشهادات\\n\\n\\nالإعلان عن نتيجة سحب شهادات استثمار المجموعة \\' ج \\'\\nإقرأ أكثر\\n\\nتنويه للسادة حملة وثائق صناديق استثمار البنك الأهلي المصري\\nإقرأ أكثر\\n\\nتعديل محددات بطاقات الائتمان دوليا\\nإقرأ أكثر\\n\\nتعديل محددات بطاقات الخصم المباشر دوليا\\nإقرأ أكثر\\n\\nضوابط استخدام بطاقات البنك الأهلي المصري\\nإقرأ أكثر\\n\\nتحذير هام\\nنؤكد علي ضرورة عدم تداولكم ايه ارقام سريه أو تعريفية او الارقام الموضحة خلف بطاقات الدفع الخاصة بكم مع أي شخص حفاظا علي سلامة معاملاتكم المالية.إقرأ أكثر\\n\\n#ProductName#\\n#ShortHTMLDesc#إقرأ أكثر\\n\\nالخدمات الإلكترونية\\nتقدم لك خدمة الأهلي نت تجربة مصرفية متطورة سهلة آمنة والمصممة خصيصا لتلبي إحتياجاتك   أعرف أكتر     خدمة الموبايل البنكي \"الأهلي موبايل\" والتي تقدم تجربة مصرفية متطورة سهلة وآمنة والتي تتيح لك اجراء العديد من الخدمات المصرفية المتطورة من أي مكان وفي أي وقت أعرف أكتر     هي خدمة مقدمة من قبل البنك الأهلي المصري تتيح للعملاء استخدام الهاتف المحمول في تحويل الأموال - دفع الفواتير- شحن رصيد - إيداع / سحب نقدي-اصدار كارت افتراضي أعرف أكتر     هو نموذج جديد يقدمه البنك كأحد النماذج الجديدة ضمن استراتيجية التحول الرقمي للبنك الأهلي. أعرف أكتر     خدمة مقدمة من قبل البنك الأهلي المصري تتيح لعملائك شراء أي منتج / خدمة أو سداد أية مستحقات عبر الإنترنت للمؤسسات من خلال موقعها الإلكتروني أعرف أكتر      خدمة استخدام بطاقات البنك الأهلي المصري (الائتمانية، الخصم و المدفوعة مقدماً) في المشتريات المحلية و الدولية وسوف تكسب نقاط أعرف أكتر\\n\\nتعرف أكثر على الخدمات المتاحة من خلال الخدمات الإلكترونية\\n\\n\\nأضف إلى المفضلة\\n\\n\\nالمقر الرئيسي\\n1187 كورنيش النيل ، برج البنك الأهلي ، بولاق ، القاهرة ، مصراتصل بنامحليا: 19623 - دوليا: 0020219623\\n\\nاتصل بنا\\nمحليا: 19623 - دوليا: 0020219623\\n\\n\\n\\n\\nتواصل معانا\\n\\n\\nالإبلاغ عن مشكلة\\nاتصل بنا على الفور على الخط الساخن على مدار 24-ساعة 19623 للإبلاغ عن مشكلة أو بطاقة مفقودة\\n\\nأهلًا بك في خدمة المساعد الآلي من البنك الأهلي المصري.\\n'}"
      ]
     },
     "execution_count": 2,
     "metadata": {},
     "output_type": "execute_result"
    }
   ],
   "source": [
    "\n",
    "\n",
    "document"
   ]
  },
  {
   "cell_type": "code",
   "execution_count": 5,
   "metadata": {},
   "outputs": [
    {
     "name": "stdout",
     "output_type": "stream",
     "text": [
      "Chunk 1:\n",
      "الحسابات\n",
      "حسابات جاريةحسابات التوفيرافتح حسابك وإنت في مكانكالمزيد\n",
      "\n",
      "شهادات الادخار\n",
      "عملة محليةعملة أجنبيةشهادات بلاديشهادات الاستثمارالمزيد\n",
      "\n",
      "البطاقات\n",
      "بطاقات الإئتمانبطاقات الخصم المباشرالبطاقات المدفوعة مقدمامحددات البطاقاتمحددات البطاقاتكيفية تفعيل البطاقاتالمزيد\n",
      "\n",
      "القروض\n",
      "القرض الشخصي النقديقرض السيارةمبادرة البنك المركزي المصري - التمويل العقاريالمزيد\n",
      "\n",
      "الودائع\n",
      "الودائع - عملة محليةالودائع - عملات أجنبيةالمزيد\n",
      "\n",
      "الخدمات\n",
      "الأوراق الماليةأمناء الأستثمارالتحويلات الخارجيةالتأمين البنكيالمزيد\n",
      "\n",
      "الخدمات الالكترونية\n",
      "الاهلي نت – افرادالاهلى موبايلالأهلي فون كاشفروع الخدمة الالكترونيةخدمة الأهلي للتسوق عبر الإنترنتالفرع المتنقلالأهلي واتسابخدمة المساعد الآلي التفاعلي NBE Chatbot\n",
      "\n",
      "خدمات الحسابات\n",
      "خدمة الكشف الإلكتروني للحساباتخدمة ال sweeping\n",
      "\n",
      "الحسابات  و البطاقات\n",
      "حسابات جاريهبطاقات الشركاتالمزيد\n",
      "\n",
      "شهادات الادخار\n",
      "عملة محليةعملة أجنبيةالمزيد\n",
      "\n",
      "تمويل الشركات\n",
      "تمويل الشركات والقروض المشتركةالمزيد\n",
      "\n",
      "خدمات المرتبات\n",
      "برامج الاهلي للمرتباتخدمة الراتب المقدمالمزيد\n",
      "--------------------------------------------------------------------------------\n",
      "Chunk 2:\n",
      "خدمات المرتبات\n",
      "برامج الاهلي للمرتباتخدمة الراتب المقدمالمزيد\n",
      "\n",
      "الودائع\n",
      "الودائع - عملة محليةالودائع - عملات أجنبيةالودائع لأجل للشركات بحد ادنى مليون جم\n",
      "\n",
      "الخدمات\n",
      "الأوراق الماليةأمناء الأستثمارتحصيل مستحقات الحكومة الكترونياًالأهلي للمدفوعات والمتحصلاتقيد أسهم رأسمال الشركات بنظام الإيداع المركزي\n",
      "\n",
      "الخدمات الالكترونية\n",
      "خدمة الاهلي نت - للشركاتالاهلى موبايلخدمة الأهلي للتسوق عبر الإنترنتتطبيق قبول المدفوعات للتجارالأهلي واتسابخدمة المساعد الآلي التفاعلي NBE Chatbot\n",
      "\n",
      "التسجيل للحصول علي تمويل\n",
      "\n",
      "\n",
      "الاهلي للخدمات غير المالية\n",
      "مراكز تطوير الأعمالاستشاراتتوجية و ارشاداتتدريبات\n",
      "\n",
      "وحدات المشروعات المتوسطة\n",
      "\n",
      "\n",
      "الأهلي بيزنس\n",
      "تمويل القطاع الصناعيتمويل القطاع التجاريتمويل القطاع الخدميتمويل القطاع الزراعي\n",
      "\n",
      "الخدمات المصرفية المشروعات الصغيرة والمتوسطة\n",
      "الحساباتبطاقات الشركاتشهادات الإدخارالودائعالخدمات الأخريالمزيد\n",
      "\n",
      "تمويل المشروعات متناهية الصغر\n",
      "\n",
      "\n",
      "الخدمات الإلكترونية\n",
      "خدمة الأهلي نت للشركاتالاهلى موبايلخدمة الأهلي للتسوق عبر الإنترنتتطبيق قبول المدفوعات للتجارالأهلي واتسابخدمة المساعد الآلي التفاعلي NBE Chatbot\n",
      "--------------------------------------------------------------------------------\n",
      "Chunk 3:\n",
      "SMEs في بنكنا\n",
      "\n",
      "\n",
      "مركز اتصالات SME\n",
      "\n",
      "\n",
      "نظرة عامة عن البلاتينم\n",
      "عن الأهلي البلاتينمالخدمات غير المالية\n",
      "\n",
      "شرائح الأهلي بلاتينم\n",
      "الأهلي بلاتينمالأهلي بلاتينم بلسالأهلي بلاتينم إيليتالأهلي بلاتينمالأهلي بلاتينم بلسالأهلي بلاتينم إيليت\n",
      "\n",
      "شهادات ادخار و ودائع\n",
      "الودائع - عملة محليةالودائع - عملات أجنبيةشهادات بالعملة الأجنبيةشهادات بالعملة المحليةشهادات بلاديشهادات استثمار\n",
      "\n",
      "الحسابات والقروض\n",
      "الحسابات الجاريةحسابات التوفيرالحساب الوسيطالقروض الشخصيةقروض السيارة\n",
      "\n",
      "افتح حسابك وإنت في مكانك\n",
      "\n",
      "\n",
      "الخدمات الذاتية\n",
      "\n",
      "\n",
      "بطاقات إئتمان\n",
      "\n",
      "\n",
      "قرض شخصي\n",
      "\n",
      "\n",
      "قرض السيارة\n",
      "\n",
      "\n",
      "شهادات\n",
      "\n",
      "\n",
      "الإعلان عن نتيجة سحب شهادات استثمار المجموعة ' ج '\n",
      "إقرأ أكثر\n",
      "\n",
      "تنويه للسادة حملة وثائق صناديق استثمار البنك الأهلي المصري\n",
      "إقرأ أكثر\n",
      "\n",
      "تعديل محددات بطاقات الائتمان دوليا\n",
      "إقرأ أكثر\n",
      "\n",
      "تعديل محددات بطاقات الخصم المباشر دوليا\n",
      "إقرأ أكثر\n",
      "\n",
      "ضوابط استخدام بطاقات البنك الأهلي المصري\n",
      "إقرأ أكثر\n",
      "\n",
      "تحذير هام\n",
      "نؤكد علي ضرورة عدم تداولكم ايه ارقام سريه أو تعريفية او الارقام الموضحة خلف بطاقات الدفع الخاصة بكم مع أي شخص حفاظا علي سلامة معاملاتكم المالية.إقرأ أكثر\n",
      "--------------------------------------------------------------------------------\n",
      "Chunk 4:\n",
      "#ProductName#\n",
      "#ShortHTMLDesc#إقرأ أكثر\n",
      "\n",
      "الخدمات الإلكترونية\n",
      "تقدم لك خدمة الأهلي نت تجربة مصرفية متطورة سهلة آمنة والمصممة خصيصا لتلبي إحتياجاتك   أعرف أكتر     خدمة الموبايل البنكي \"الأهلي موبايل\" والتي تقدم تجربة مصرفية متطورة سهلة وآمنة والتي تتيح لك اجراء العديد من الخدمات المصرفية المتطورة من أي مكان وفي أي وقت أعرف أكتر     هي خدمة مقدمة من قبل البنك الأهلي المصري تتيح للعملاء استخدام الهاتف المحمول في تحويل الأموال - دفع الفواتير- شحن رصيد - إيداع / سحب نقدي-اصدار كارت افتراضي أعرف أكتر     هو نموذج جديد يقدمه البنك كأحد النماذج الجديدة ضمن استراتيجية التحول الرقمي للبنك الأهلي. أعرف أكتر     خدمة مقدمة من قبل البنك الأهلي المصري تتيح لعملائك شراء أي منتج / خدمة أو سداد أية مستحقات عبر الإنترنت للمؤسسات من خلال موقعها الإلكتروني أعرف أكتر      خدمة استخدام بطاقات البنك الأهلي المصري (الائتمانية، الخصم و المدفوعة مقدماً) في المشتريات المحلية و الدولية وسوف تكسب نقاط أعرف أكتر\n",
      "\n",
      "تعرف أكثر على الخدمات المتاحة من خلال الخدمات الإلكترونية\n",
      "\n",
      "\n",
      "أضف إلى المفضلة\n",
      "--------------------------------------------------------------------------------\n",
      "Chunk 5:\n",
      "تعرف أكثر على الخدمات المتاحة من خلال الخدمات الإلكترونية\n",
      "\n",
      "\n",
      "أضف إلى المفضلة\n",
      "\n",
      "\n",
      "المقر الرئيسي\n",
      "1187 كورنيش النيل ، برج البنك الأهلي ، بولاق ، القاهرة ، مصراتصل بنامحليا: 19623 - دوليا: 0020219623\n",
      "\n",
      "اتصل بنا\n",
      "محليا: 19623 - دوليا: 0020219623\n",
      "\n",
      "\n",
      "\n",
      "\n",
      "تواصل معانا\n",
      "\n",
      "\n",
      "الإبلاغ عن مشكلة\n",
      "اتصل بنا على الفور على الخط الساخن على مدار 24-ساعة 19623 للإبلاغ عن مشكلة أو بطاقة مفقودة\n",
      "\n",
      "أهلًا بك في خدمة المساعد الآلي من البنك الأهلي المصري.\n",
      "--------------------------------------------------------------------------------\n"
     ]
    }
   ],
   "source": [
    "\n",
    "\n",
    "splitter = RecursiveCharacterTextSplitter(\n",
    "    chunk_size=1000,  # Define the size of each chunk\n",
    "    chunk_overlap=100  # Define overlap between chunks\n",
    ")\n",
    "\n",
    "\n",
    "\n",
    "# Split the document's content into chunks\n",
    "chunks = splitter.split_text(document['content'])\n",
    "\n",
    "\n",
    "# Output the chunks\n",
    "for i, chunk in enumerate(chunks):\n",
    "    print(f\"Chunk {i+1}:\")\n",
    "    print(chunk)\n",
    "    print(\"-\" * 80)"
   ]
  },
  {
   "cell_type": "code",
   "execution_count": 7,
   "metadata": {},
   "outputs": [],
   "source": [
    "from sentence_transformers import SentenceTransformer\n",
    "from langchain_community.vectorstores import FAISS\n",
    "from langchain_community.embeddings import HuggingFaceEmbeddings\n",
    "from langchain.schema import Document\n",
    "\n",
    "documents = [Document(page_content=chunk) for chunk in chunks]\n",
    "\n",
    "# Load the embedding model from the SentenceTransformers library\n",
    "# embedding_model = SentenceTransformer('danfeg/AraBERT_Finetuned-COMB-7443')\n",
    "# Use HuggingFaceEmbeddings to wrap the model for compatibility with LangChain\n",
    "# embeddings = HuggingFaceEmbeddings(model_name='all-MiniLM-L6-v2')\n",
    "# embeddings = HuggingFaceEmbeddings(model_name='danfeg/AraBERT_Finetuned-COMB-7443')\n",
    "embeddings = HuggingFaceEmbeddings(model_name='danfeg/AraBERT_Finetuned-COMB-7443')\n",
    "\n",
    "vectordb = FAISS.from_documents(documents, embeddings)\n",
    "\n",
    "retriever = vectordb.as_retriever()\n",
    "\n"
   ]
  },
  {
   "cell_type": "code",
   "execution_count": 12,
   "metadata": {},
   "outputs": [
    {
     "name": "stdout",
     "output_type": "stream",
     "text": [
      "WARNING 10-23 10:03:50 config.py:335] bitsandbytes quantization is not fully optimized yet. The speed can be slower than non-quantized models.\n",
      "WARNING 10-23 10:03:50 config.py:430] CUDA graph is not supported on BitAndBytes yet, fallback to the eager mode.\n",
      "INFO 10-23 10:03:50 llm_engine.py:232] Initializing an LLM engine (v0.6.1) with config: model='meta-llama/Meta-Llama-3.1-8B-Instruct', speculative_config=None, tokenizer='meta-llama/Meta-Llama-3.1-8B-Instruct', skip_tokenizer_init=False, tokenizer_mode=auto, revision=None, override_neuron_config=None, rope_scaling=None, rope_theta=None, tokenizer_revision=None, trust_remote_code=True, dtype=torch.bfloat16, max_seq_len=5000, download_dir=None, load_format=LoadFormat.BITSANDBYTES, tensor_parallel_size=1, pipeline_parallel_size=1, disable_custom_all_reduce=False, quantization=bitsandbytes, enforce_eager=True, kv_cache_dtype=auto, quantization_param_path=None, device_config=cuda, decoding_config=DecodingConfig(guided_decoding_backend='outlines'), observability_config=ObservabilityConfig(otlp_traces_endpoint=None, collect_model_forward_time=False, collect_model_execute_time=False), seed=0, served_model_name=meta-llama/Meta-Llama-3.1-8B-Instruct, use_v2_block_manager=False, num_scheduler_steps=1, enable_prefix_caching=False, use_async_output_proc=True)\n"
     ]
    },
    {
     "name": "stdout",
     "output_type": "stream",
     "text": [
      "INFO 10-23 10:03:50 model_runner.py:997] Starting to load model meta-llama/Meta-Llama-3.1-8B-Instruct...\n",
      "INFO 10-23 10:03:50 loader.py:945] Loading weights with BitsAndBytes quantization.  May take a while ...\n",
      "INFO 10-23 10:03:50 weight_utils.py:242] Using model weights format ['*.safetensors']\n"
     ]
    },
    {
     "data": {
      "application/vnd.jupyter.widget-view+json": {
       "model_id": "fdd50b109cf94813bf717bdf39f4e525",
       "version_major": 2,
       "version_minor": 0
      },
      "text/plain": [
       "Loading safetensors checkpoint shards:   0% Completed | 0/4 [00:00<?, ?it/s]\n"
      ]
     },
     "metadata": {},
     "output_type": "display_data"
    },
    {
     "name": "stdout",
     "output_type": "stream",
     "text": [
      "INFO 10-23 10:03:53 model_runner.py:1008] Loading model weights took 5.3109 GB\n",
      "INFO 10-23 10:03:54 gpu_executor.py:122] # GPU blocks: 970, # CPU blocks: 2048\n"
     ]
    },
    {
     "name": "stderr",
     "output_type": "stream",
     "text": [
      "Processed prompts: 100%|██████████| 1/1 [00:09<00:00,  9.58s/it, est. speed input: 170.11 toks/s, output: 26.11 toks/s]"
     ]
    },
    {
     "name": "stdout",
     "output_type": "stream",
     "text": [
      "الإجابة: البنك الأهلي المصري هو أحد البنوك الرئيسية في مصر، ويعمل مجهودا كبيرا من أجل تقديم الخدمات المصرفية المتطورة وتحقيق الاستدامة المالية. بالإضافة إلى ذلك، فإن البنك لديه فرع في عديس أبابا. البنك يوفر مجموعة واسعة من الخدمات في مجال التمويل والهيئات الأخرى، بما في ذلك شهادات الوديعة والودائع - عملة محلية. يصنف البنك ضمن القطاع العام المصرى. الاستثمار البنكى للإستثمار المباشر في الأسهم المصرفية هو عنصر أساسي يعتمد عليه الأسواق المالية، ويقدم البنك استشارات وفرص إستثمار. يعتبر البنك النموذج المصاحب للιχتراق الاقتصادى المصرى، مما يجعله اسسيا للامنات في مصر. يعتمد البنك على عدد من العوامل في تقديم العروض والطلبات على الأسهم المصرية\n"
     ]
    },
    {
     "name": "stderr",
     "output_type": "stream",
     "text": [
      "\n"
     ]
    }
   ],
   "source": [
    "# Step 6: Retrieve relevant context from FAISS based on a question\n",
    "def get_relevant_context(question):\n",
    "    docs = retriever.get_relevant_documents(question)\n",
    "    context = \"\\n\".join([doc.page_content for doc in docs])\n",
    "    return context\n",
    "\n",
    "# Step 7: Initialize LLaMA model using vllm\n",
    "llm = LLM(\n",
    "    model=\"meta-llama/Meta-Llama-3.1-8B-Instruct\", \n",
    "    dtype=torch.bfloat16, \n",
    "    trust_remote_code=True, \n",
    "    quantization=\"bitsandbytes\", \n",
    "    load_format=\"bitsandbytes\", \n",
    "    gpu_memory_utilization=0.20, \n",
    "    max_model_len=5000\n",
    ")\n",
    "\n",
    "\n",
    "# Step 8: Prepare the prompt for the LLM\n",
    "prompt_template = \"\"\"\\\n",
    "أجب على السؤال التالي باللغة العربية باستخدام السياق المقدم فقط.\n",
    "قدم إجابة واضحة وتأكد من أنها تعالج السؤال بدقة.\n",
    "ابحث عن المعلومات ذات الصلة في البيانات واستخرجها.\n",
    "\n",
    "<السياق>\n",
    "{context}\n",
    "</السياق>\n",
    "\n",
    "السؤال: {input}\n",
    "\"\"\"\n",
    "\n",
    "# Step 9: Generate a response using the LLM based on retrieved context\n",
    "def generate_response(question):\n",
    "    # Step 9.1: Retrieve the relevant context from FAISS\n",
    "    context = get_relevant_context(question)\n",
    "    \n",
    "    # Step 9.2: Format the prompt\n",
    "    prompt_text = prompt_template.format(context=context, input=question)\n",
    "    \n",
    "    # Step 9.3: Generate the answer using the LLM\n",
    "    sampling_params = SamplingParams(max_tokens=250, temperature=0.8)\n",
    "    response = llm.generate(prompt_text, sampling_params)\n",
    "    \n",
    "    # Return the response text\n",
    "    return response[0].outputs[0].text\n",
    "\n",
    "\n"
   ]
  },
  {
   "cell_type": "code",
   "execution_count": null,
   "metadata": {},
   "outputs": [],
   "source": []
  },
  {
   "cell_type": "code",
   "execution_count": null,
   "metadata": {},
   "outputs": [],
   "source": []
  }
 ],
 "metadata": {
  "kernelspec": {
   "display_name": "myenv",
   "language": "python",
   "name": "python3"
  },
  "language_info": {
   "codemirror_mode": {
    "name": "ipython",
    "version": 3
   },
   "file_extension": ".py",
   "mimetype": "text/x-python",
   "name": "python",
   "nbconvert_exporter": "python",
   "pygments_lexer": "ipython3",
   "version": "3.10.14"
  }
 },
 "nbformat": 4,
 "nbformat_minor": 2
}
